{
 "cells": [
  {
   "cell_type": "markdown",
   "metadata": {
    "id": "setup"
   },
   "source": [
    "# Pear Precision - Training in Google Colab\n",
    "\n",
    "This notebook allows you to train the YOLOv8 model for pear detection and the ResNet18 model for leaf disease classification using Google Colab's GPU acceleration."
   ]
  },
  {
   "cell_type": "markdown",
   "metadata": {
    "id": "install-deps"
   },
   "source": [
    "## 1. Install Dependencies"
   ]
  },
  {
   "cell_type": "code",
   "execution_count": null,
   "metadata": {
    "id": "install-packages"
   },
   "outputs": [],
   "source": [
    "# Install required packages\n",
    "!pip install ultralytics torch torchvision kaggle"
   ]
  },
  {
   "cell_type": "markdown",
   "metadata": {
    "id": "setup-kaggle"
   },
   "source": [
    "## 2. Setup Kaggle (if needed)"
   ]
  },
  {
   "cell_type": "code",
   "execution_count": null,
   "metadata": {
    "id": "kaggle-setup"
   },
   "outputs": [],
   "source": [
    "# Create kaggle directory\n",
    "!mkdir -p ~/.kaggle\n",
    "\n",
    "# Upload your kaggle.json file when prompted\n",
    "from google.colab import files\n",
    "uploaded = files.upload()\n",
    "\n",
    "# Move the uploaded file to the correct location\n",
    "for fn in uploaded.keys():\n",
    "    if fn == 'kaggle.json':\n",
    "        !mv kaggle.json ~/.kaggle/\n",
    "        !chmod 600 ~/.kaggle/kaggle.json"
   ]
  },
  {
   "cell_type": "markdown",
   "metadata": {
    "id": "mount-drive"
   },
   "source": [
    "## 3. Mount Google Drive"
   ]
  },
  {
   "cell_type": "code",
   "execution_count": null,
   "metadata": {
    "id": "mount-google-drive"
   },
   "outputs": [],
   "source": [
    "from google.colab import drive\n",
    "drive.mount('/content/drive')"
   ]
  },
  {
   "cell_type": "markdown",
   "metadata": {
    "id": "copy-project"
   },
   "source": [
    "## 4. Copy Project to Colab (if not already in Drive)"
   ]
  },
  {
   "cell_type": "code",
   "execution_count": null,
   "metadata": {
    "id": "copy-files"
   },
   "outputs": [],
   "source": [
    "# If you need to upload your project, use this cell\n",
    "# Upload your pear-precision.zip file when prompted\n",
    "from google.colab import files\n",
    "uploaded = files.upload()\n",
    "\n",
    "# Extract if you uploaded a zip file\n",
    "for fn in uploaded.keys():\n",
    "    if fn.endswith('.zip'):\n",
    "        !unzip {fn} -d /content/\n",
    "        %cd /content/pear-precision"
   ]
  },
  {
   "cell_type": "markdown",
   "metadata": {
    "id": "train-yolo"
   },
   "source": [
    "## 5. Train YOLOv8 Model"
   ]
  },
  {
   "cell_type": "code",
   "execution_count": null,
   "metadata": {
    "id": "yolo-training"
   },
   "outputs": [],
   "source": [
    "# Navigate to project directory (if already in Drive)\n",
    "%cd /content/drive/MyDrive/pear-precision\n",
    "\n",
    "# Train YOLOv8 model\n",
    "!python backend/scripts/train_yolo.py"
   ]
  },
  {
   "cell_type": "markdown",
   "metadata": {
    "id": "train-resnet"
   },
   "source": [
    "## 6. Train ResNet18 Model (Optional)"
   ]
  },
  {
   "cell_type": "code",
   "execution_count": null,
   "metadata": {
    "id": "resnet-training"
   },
   "outputs": [],
   "source": [
    "# Train ResNet18 leaf classifier\n",
    "!python backend/scripts/train_leaf_classifier.py"
   ]
  },
  {
   "cell_type": "markdown",
   "metadata": {
    "id": "download-models"
   },
   "source": [
    "## 7. Download Trained Models"
   ]
  },
  {
   "cell_type": "code",
   "execution_count": null,
   "metadata": {
    "id": "download-files"
   },
   "outputs": [],
   "source": [
    "# Download the trained models\n",
    "from google.colab import files\n",
    "\n",
    "# Download YOLO model\n",
    "files.download('backend/models/yolo_pear.pt')\n",
    "\n",
    "# Download ResNet model (if trained)\n",
    "# files.download('backend/models/resnet_leaf_classifier.pth')"
   ]
  }
 ],
 "metadata": {
  "colab": {
   "provenance": []
  },
  "kernelspec": {
   "display_name": "Python 3",
   "name": "python3"
  },
  "language_info": {
   "name": "python"
  }
 },
 "nbformat": 4,
 "nbformat_minor": 0
}
